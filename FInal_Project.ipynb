{
 "cells": [
  {
   "cell_type": "markdown",
   "id": "178a3d80-c75f-4e7e-adb2-606f591192d5",
   "metadata": {},
   "source": [
    "# Final Project"
   ]
  },
  {
   "cell_type": "markdown",
   "id": "bbf4e921-96a1-4359-a8c9-f8dcdd997aa2",
   "metadata": {},
   "source": [
    "# Setup configuration for Using Fabric Testbed via FABlib API\n",
    "\n",
    "The following notebook can be used to configure your Jupyter environment.  The product of running this notebook are the following:\n",
    "\n",
    "- `fabric_rc`:  File used to configure a FABlib application.  \n",
    "- `fabric_bastion_key`: Fabric Bastion key pair. In order to minimize security incidents on FABRIC, access to VMs and other resources administered by users is controlled using a bastion host. You will need to set up an ssh keypair that will be used to jump through the bastion host to your VMs and other resources. This keypair is unique to you and is only used to set up ssh proxy connections through the bastion host to your FABRIC resources. More information about how to access your experiment through the bastion host can be found [here](https://learn.fabric-testbed.net/knowledge-base/logging-into-fabric-vms/).\n",
    "- `slice_key` and `slice_key.pub`: Sliver Key pair.\n",
    "- `ssh_config`: File used to ssh from from a terminal to FABRIC VM by jumping through the FABRIC bastion host. "
   ]
  },
  {
   "cell_type": "markdown",
   "id": "fb48a7eb-f825-46ef-bc6e-ee82fdd66a6f",
   "metadata": {},
   "source": [
    "## Set Project ID and generate the configuration\n",
    "\n",
    "Edit the following cell by entering your Project ID for the FABRIC Project to use in your Jupyter container.  \n",
    "\n",
    "- The Project ID can be from any of your projects. The ID can be found in the 'Basic Info' tab for each of the [projects](https://portal.fabric-testbed.net/experiments#projects) in the FABRIC portal."
   ]
  },
  {
   "cell_type": "code",
   "execution_count": 3,
   "id": "fe8110c9-d1d8-44ec-8edc-629f456163f9",
   "metadata": {},
   "outputs": [],
   "source": [
    "from fabrictestbed_extensions.fablib.fablib import FablibManager as fablib_manager\n",
    "\n",
    "# Update this line to specify your project id\n",
    "project_id = \"0508639f-d515-44c8-b922-cf4cf000b6d9\"\n",
    "\n",
    "# Uncomment the line below if using 'FABRIC Tutorials' Project\n",
    "#project_id=\"a7818636-1fa1-4e77-bb03-d171598b0862\"\n",
    "\n",
    "fablib = fablib_manager(project_id=project_id)"
   ]
  },
  {
   "cell_type": "markdown",
   "id": "e1d87f1c-67ba-47ad-832b-93bdc30bcdd7",
   "metadata": {},
   "source": [
    "## Display the configuration"
   ]
  },
  {
   "cell_type": "code",
   "execution_count": 5,
   "id": "6be9a860-b847-4e81-88e8-7220b66429cb",
   "metadata": {},
   "outputs": [
    {
     "data": {
      "text/html": [
       "<style type=\"text/css\">\n",
       "#T_a665d tr:nth-child(even) {\n",
       "  background: #dbf3ff;\n",
       "  color: #231f20;\n",
       "}\n",
       "#T_a665d tr:nth-child(odd) {\n",
       "  background: #ffffff;\n",
       "  color: #231f20;\n",
       "}\n",
       "#T_a665d caption {\n",
       "  text-align: center;\n",
       "  font-size: 150%;\n",
       "}\n",
       "#T_a665d_row0_col0, #T_a665d_row0_col1, #T_a665d_row1_col0, #T_a665d_row1_col1, #T_a665d_row2_col0, #T_a665d_row2_col1, #T_a665d_row3_col0, #T_a665d_row3_col1, #T_a665d_row4_col0, #T_a665d_row4_col1, #T_a665d_row5_col0, #T_a665d_row5_col1, #T_a665d_row6_col0, #T_a665d_row6_col1, #T_a665d_row7_col0, #T_a665d_row7_col1, #T_a665d_row8_col0, #T_a665d_row8_col1, #T_a665d_row9_col0, #T_a665d_row9_col1, #T_a665d_row10_col0, #T_a665d_row10_col1, #T_a665d_row11_col0, #T_a665d_row11_col1, #T_a665d_row12_col0, #T_a665d_row12_col1, #T_a665d_row13_col0, #T_a665d_row13_col1, #T_a665d_row14_col0, #T_a665d_row14_col1, #T_a665d_row15_col0, #T_a665d_row15_col1, #T_a665d_row16_col0, #T_a665d_row16_col1, #T_a665d_row17_col0, #T_a665d_row17_col1, #T_a665d_row18_col0, #T_a665d_row18_col1 {\n",
       "  text-align: left;\n",
       "  border: 1px #231f20 solid !important;\n",
       "  overwrite: False;\n",
       "}\n",
       "</style>\n",
       "<table id=\"T_a665d\">\n",
       "  <caption>FABlib Config</caption>\n",
       "  <thead>\n",
       "  </thead>\n",
       "  <tbody>\n",
       "    <tr>\n",
       "      <td id=\"T_a665d_row0_col0\" class=\"data row0 col0\" >Orchestrator</td>\n",
       "      <td id=\"T_a665d_row0_col1\" class=\"data row0 col1\" >orchestrator.fabric-testbed.net</td>\n",
       "    </tr>\n",
       "    <tr>\n",
       "      <td id=\"T_a665d_row1_col0\" class=\"data row1 col0\" >Credential Manager</td>\n",
       "      <td id=\"T_a665d_row1_col1\" class=\"data row1 col1\" >cm.fabric-testbed.net</td>\n",
       "    </tr>\n",
       "    <tr>\n",
       "      <td id=\"T_a665d_row2_col0\" class=\"data row2 col0\" >Core API</td>\n",
       "      <td id=\"T_a665d_row2_col1\" class=\"data row2 col1\" >uis.fabric-testbed.net</td>\n",
       "    </tr>\n",
       "    <tr>\n",
       "      <td id=\"T_a665d_row3_col0\" class=\"data row3 col0\" >Artifact Manager</td>\n",
       "      <td id=\"T_a665d_row3_col1\" class=\"data row3 col1\" >artifacts.fabric-testbed.net</td>\n",
       "    </tr>\n",
       "    <tr>\n",
       "      <td id=\"T_a665d_row4_col0\" class=\"data row4 col0\" >Token File</td>\n",
       "      <td id=\"T_a665d_row4_col1\" class=\"data row4 col1\" >/home/fabric/.tokens.json</td>\n",
       "    </tr>\n",
       "    <tr>\n",
       "      <td id=\"T_a665d_row5_col0\" class=\"data row5 col0\" >Project ID</td>\n",
       "      <td id=\"T_a665d_row5_col1\" class=\"data row5 col1\" >0508639f-d515-44c8-b922-cf4cf000b6d9</td>\n",
       "    </tr>\n",
       "    <tr>\n",
       "      <td id=\"T_a665d_row6_col0\" class=\"data row6 col0\" >Bastion Host</td>\n",
       "      <td id=\"T_a665d_row6_col1\" class=\"data row6 col1\" >bastion.fabric-testbed.net</td>\n",
       "    </tr>\n",
       "    <tr>\n",
       "      <td id=\"T_a665d_row7_col0\" class=\"data row7 col0\" >Bastion Username</td>\n",
       "      <td id=\"T_a665d_row7_col1\" class=\"data row7 col1\" >cetuck_0000291746</td>\n",
       "    </tr>\n",
       "    <tr>\n",
       "      <td id=\"T_a665d_row8_col0\" class=\"data row8 col0\" >Bastion Private Key File</td>\n",
       "      <td id=\"T_a665d_row8_col1\" class=\"data row8 col1\" >/home/fabric/work/fabric_config/fabric_bastion_key</td>\n",
       "    </tr>\n",
       "    <tr>\n",
       "      <td id=\"T_a665d_row9_col0\" class=\"data row9 col0\" >Slice Public Key File</td>\n",
       "      <td id=\"T_a665d_row9_col1\" class=\"data row9 col1\" >/home/fabric/work/fabric_config/slice_key.pub</td>\n",
       "    </tr>\n",
       "    <tr>\n",
       "      <td id=\"T_a665d_row10_col0\" class=\"data row10 col0\" >Slice Private Key File</td>\n",
       "      <td id=\"T_a665d_row10_col1\" class=\"data row10 col1\" >/home/fabric/work/fabric_config/slice_key</td>\n",
       "    </tr>\n",
       "    <tr>\n",
       "      <td id=\"T_a665d_row11_col0\" class=\"data row11 col0\" >Sites to avoid</td>\n",
       "      <td id=\"T_a665d_row11_col1\" class=\"data row11 col1\" ></td>\n",
       "    </tr>\n",
       "    <tr>\n",
       "      <td id=\"T_a665d_row12_col0\" class=\"data row12 col0\" >SSH Command Line</td>\n",
       "      <td id=\"T_a665d_row12_col1\" class=\"data row12 col1\" >ssh -i {{ _self_.private_ssh_key_file }} -F /home/fabric/work/fabric_config/ssh_config {{ _self_.username }}@{{ _self_.management_ip }}</td>\n",
       "    </tr>\n",
       "    <tr>\n",
       "      <td id=\"T_a665d_row13_col0\" class=\"data row13 col0\" >Log Level</td>\n",
       "      <td id=\"T_a665d_row13_col1\" class=\"data row13 col1\" >INFO</td>\n",
       "    </tr>\n",
       "    <tr>\n",
       "      <td id=\"T_a665d_row14_col0\" class=\"data row14 col0\" >Log File</td>\n",
       "      <td id=\"T_a665d_row14_col1\" class=\"data row14 col1\" >/tmp/fablib/fablib.log</td>\n",
       "    </tr>\n",
       "    <tr>\n",
       "      <td id=\"T_a665d_row15_col0\" class=\"data row15 col0\" >Bastion SSH Config File</td>\n",
       "      <td id=\"T_a665d_row15_col1\" class=\"data row15 col1\" >/home/fabric/work/fabric_config/ssh_config</td>\n",
       "    </tr>\n",
       "    <tr>\n",
       "      <td id=\"T_a665d_row16_col0\" class=\"data row16 col0\" >Version</td>\n",
       "      <td id=\"T_a665d_row16_col1\" class=\"data row16 col1\" >1.8.0</td>\n",
       "    </tr>\n",
       "    <tr>\n",
       "      <td id=\"T_a665d_row17_col0\" class=\"data row17 col0\" >Data directory</td>\n",
       "      <td id=\"T_a665d_row17_col1\" class=\"data row17 col1\" >/tmp/fablib</td>\n",
       "    </tr>\n",
       "    <tr>\n",
       "      <td id=\"T_a665d_row18_col0\" class=\"data row18 col0\" >Project Name</td>\n",
       "      <td id=\"T_a665d_row18_col1\" class=\"data row18 col1\" >FABRIC Clemson EDU</td>\n",
       "    </tr>\n",
       "  </tbody>\n",
       "</table>\n"
      ],
      "text/plain": [
       "<pandas.io.formats.style.Styler at 0x7ca5173c47d0>"
      ]
     },
     "metadata": {},
     "output_type": "display_data"
    }
   ],
   "source": [
    "fablib.show_config();"
   ]
  },
  {
   "cell_type": "markdown",
   "id": "a4becd79-2af9-4804-8603-cc03b38bb5a6",
   "metadata": {},
   "source": [
    "## Validate the configuration;\n",
    "- Checks the validity of the bastion keys and regenerates them if they are expired\n",
    "- Generates Sliver keys if they do not exist already"
   ]
  },
  {
   "cell_type": "code",
   "execution_count": 6,
   "id": "1dfc4175-8fee-4479-be13-21ce243596b1",
   "metadata": {},
   "outputs": [
    {
     "name": "stdout",
     "output_type": "stream",
     "text": [
      "User: cetuck@clemson.edu bastion key is valid!\n",
      "Configuration is valid and please save the config!\n"
     ]
    }
   ],
   "source": [
    "fablib.verify_and_configure()"
   ]
  },
  {
   "cell_type": "markdown",
   "id": "8d8ca51c-e944-468f-b38c-0651eb2f6b13",
   "metadata": {},
   "source": [
    "## Save the configuration for subsequent use"
   ]
  },
  {
   "cell_type": "code",
   "execution_count": 7,
   "id": "a7d8586a-1dfd-4b40-8fc3-d10ffe78cf5a",
   "metadata": {},
   "outputs": [],
   "source": [
    "fablib.save_config()"
   ]
  }
 ],
 "metadata": {
  "kernelspec": {
   "display_name": "Python 3 (ipykernel)",
   "language": "python",
   "name": "python3"
  },
  "language_info": {
   "codemirror_mode": {
    "name": "ipython",
    "version": 3
   },
   "file_extension": ".py",
   "mimetype": "text/x-python",
   "name": "python",
   "nbconvert_exporter": "python",
   "pygments_lexer": "ipython3",
   "version": "3.11.9"
  }
 },
 "nbformat": 4,
 "nbformat_minor": 5
}
