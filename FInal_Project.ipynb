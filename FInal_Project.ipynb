{
 "cells": [
  {
   "cell_type": "markdown",
   "id": "178a3d80-c75f-4e7e-adb2-606f591192d5",
   "metadata": {},
   "source": [
    "# Final Project"
   ]
  },
  {
   "cell_type": "markdown",
   "id": "bbf4e921-96a1-4359-a8c9-f8dcdd997aa2",
   "metadata": {},
   "source": [
    "## Setup configuration for Using Fabric Testbed via FABlib API\n",
    "\n",
    "The following notebook can be used to configure your Jupyter environment.  The product of running this notebook are the following:\n",
    "\n",
    "- `fabric_rc`:  File used to configure a FABlib application.  \n",
    "- `fabric_bastion_key`: Fabric Bastion key pair. In order to minimize security incidents on FABRIC, access to VMs and other resources administered by users is controlled using a bastion host. You will need to set up an ssh keypair that will be used to jump through the bastion host to your VMs and other resources. This keypair is unique to you and is only used to set up ssh proxy connections through the bastion host to your FABRIC resources. More information about how to access your experiment through the bastion host can be found [here](https://learn.fabric-testbed.net/knowledge-base/logging-into-fabric-vms/).\n",
    "- `slice_key` and `slice_key.pub`: Sliver Key pair.\n",
    "- `ssh_config`: File used to ssh from from a terminal to FABRIC VM by jumping through the FABRIC bastion host. "
   ]
  },
  {
   "cell_type": "markdown",
   "id": "fb48a7eb-f825-46ef-bc6e-ee82fdd66a6f",
   "metadata": {},
   "source": [
    "## Set Project ID and generate the configuration\n",
    "\n",
    "Edit the following cell by entering your Project ID for the FABRIC Project to use in your Jupyter container.  \n",
    "\n",
    "- The Project ID can be from any of your projects. The ID can be found in the 'Basic Info' tab for each of the [projects](https://portal.fabric-testbed.net/experiments#projects) in the FABRIC portal."
   ]
  },
  {
   "cell_type": "code",
   "execution_count": 1,
   "id": "fe8110c9-d1d8-44ec-8edc-629f456163f9",
   "metadata": {},
   "outputs": [],
   "source": [
    "from fabrictestbed_extensions.fablib.fablib import FablibManager as fablib_manager\n",
    "\n",
    "# Update this line to specify your project id\n",
    "project_id = \"0508639f-d515-44c8-b922-cf4cf000b6d9\"\n",
    "\n",
    "# Uncomment the line below if using 'FABRIC Tutorials' Project\n",
    "#project_id=\"a7818636-1fa1-4e77-bb03-d171598b0862\"\n",
    "\n",
    "fablib = fablib_manager(project_id=project_id)"
   ]
  },
  {
   "cell_type": "markdown",
   "id": "e1d87f1c-67ba-47ad-832b-93bdc30bcdd7",
   "metadata": {},
   "source": [
    "## Display the configuration"
   ]
  },
  {
   "cell_type": "code",
   "execution_count": 2,
   "id": "6be9a860-b847-4e81-88e8-7220b66429cb",
   "metadata": {},
   "outputs": [
    {
     "data": {
      "text/html": [
       "<style type=\"text/css\">\n",
       "#T_070e5 tr:nth-child(even) {\n",
       "  background: #dbf3ff;\n",
       "  color: #231f20;\n",
       "}\n",
       "#T_070e5 tr:nth-child(odd) {\n",
       "  background: #ffffff;\n",
       "  color: #231f20;\n",
       "}\n",
       "#T_070e5 caption {\n",
       "  text-align: center;\n",
       "  font-size: 150%;\n",
       "}\n",
       "#T_070e5_row0_col0, #T_070e5_row0_col1, #T_070e5_row1_col0, #T_070e5_row1_col1, #T_070e5_row2_col0, #T_070e5_row2_col1, #T_070e5_row3_col0, #T_070e5_row3_col1, #T_070e5_row4_col0, #T_070e5_row4_col1, #T_070e5_row5_col0, #T_070e5_row5_col1, #T_070e5_row6_col0, #T_070e5_row6_col1, #T_070e5_row7_col0, #T_070e5_row7_col1, #T_070e5_row8_col0, #T_070e5_row8_col1, #T_070e5_row9_col0, #T_070e5_row9_col1, #T_070e5_row10_col0, #T_070e5_row10_col1, #T_070e5_row11_col0, #T_070e5_row11_col1, #T_070e5_row12_col0, #T_070e5_row12_col1, #T_070e5_row13_col0, #T_070e5_row13_col1, #T_070e5_row14_col0, #T_070e5_row14_col1, #T_070e5_row15_col0, #T_070e5_row15_col1, #T_070e5_row16_col0, #T_070e5_row16_col1, #T_070e5_row17_col0, #T_070e5_row17_col1, #T_070e5_row18_col0, #T_070e5_row18_col1 {\n",
       "  text-align: left;\n",
       "  border: 1px #231f20 solid !important;\n",
       "  overwrite: False;\n",
       "}\n",
       "</style>\n",
       "<table id=\"T_070e5\">\n",
       "  <caption>FABlib Config</caption>\n",
       "  <thead>\n",
       "  </thead>\n",
       "  <tbody>\n",
       "    <tr>\n",
       "      <td id=\"T_070e5_row0_col0\" class=\"data row0 col0\" >Orchestrator</td>\n",
       "      <td id=\"T_070e5_row0_col1\" class=\"data row0 col1\" >orchestrator.fabric-testbed.net</td>\n",
       "    </tr>\n",
       "    <tr>\n",
       "      <td id=\"T_070e5_row1_col0\" class=\"data row1 col0\" >Credential Manager</td>\n",
       "      <td id=\"T_070e5_row1_col1\" class=\"data row1 col1\" >cm.fabric-testbed.net</td>\n",
       "    </tr>\n",
       "    <tr>\n",
       "      <td id=\"T_070e5_row2_col0\" class=\"data row2 col0\" >Core API</td>\n",
       "      <td id=\"T_070e5_row2_col1\" class=\"data row2 col1\" >uis.fabric-testbed.net</td>\n",
       "    </tr>\n",
       "    <tr>\n",
       "      <td id=\"T_070e5_row3_col0\" class=\"data row3 col0\" >Artifact Manager</td>\n",
       "      <td id=\"T_070e5_row3_col1\" class=\"data row3 col1\" >artifacts.fabric-testbed.net</td>\n",
       "    </tr>\n",
       "    <tr>\n",
       "      <td id=\"T_070e5_row4_col0\" class=\"data row4 col0\" >Token File</td>\n",
       "      <td id=\"T_070e5_row4_col1\" class=\"data row4 col1\" >/home/fabric/.tokens.json</td>\n",
       "    </tr>\n",
       "    <tr>\n",
       "      <td id=\"T_070e5_row5_col0\" class=\"data row5 col0\" >Project ID</td>\n",
       "      <td id=\"T_070e5_row5_col1\" class=\"data row5 col1\" >0508639f-d515-44c8-b922-cf4cf000b6d9</td>\n",
       "    </tr>\n",
       "    <tr>\n",
       "      <td id=\"T_070e5_row6_col0\" class=\"data row6 col0\" >Bastion Host</td>\n",
       "      <td id=\"T_070e5_row6_col1\" class=\"data row6 col1\" >bastion.fabric-testbed.net</td>\n",
       "    </tr>\n",
       "    <tr>\n",
       "      <td id=\"T_070e5_row7_col0\" class=\"data row7 col0\" >Bastion Username</td>\n",
       "      <td id=\"T_070e5_row7_col1\" class=\"data row7 col1\" >cetuck_0000291746</td>\n",
       "    </tr>\n",
       "    <tr>\n",
       "      <td id=\"T_070e5_row8_col0\" class=\"data row8 col0\" >Bastion Private Key File</td>\n",
       "      <td id=\"T_070e5_row8_col1\" class=\"data row8 col1\" >/home/fabric/work/fabric_config/fabric_bastion_key</td>\n",
       "    </tr>\n",
       "    <tr>\n",
       "      <td id=\"T_070e5_row9_col0\" class=\"data row9 col0\" >Slice Public Key File</td>\n",
       "      <td id=\"T_070e5_row9_col1\" class=\"data row9 col1\" >/home/fabric/work/fabric_config/slice_key.pub</td>\n",
       "    </tr>\n",
       "    <tr>\n",
       "      <td id=\"T_070e5_row10_col0\" class=\"data row10 col0\" >Slice Private Key File</td>\n",
       "      <td id=\"T_070e5_row10_col1\" class=\"data row10 col1\" >/home/fabric/work/fabric_config/slice_key</td>\n",
       "    </tr>\n",
       "    <tr>\n",
       "      <td id=\"T_070e5_row11_col0\" class=\"data row11 col0\" >Sites to avoid</td>\n",
       "      <td id=\"T_070e5_row11_col1\" class=\"data row11 col1\" ></td>\n",
       "    </tr>\n",
       "    <tr>\n",
       "      <td id=\"T_070e5_row12_col0\" class=\"data row12 col0\" >SSH Command Line</td>\n",
       "      <td id=\"T_070e5_row12_col1\" class=\"data row12 col1\" >ssh -i {{ _self_.private_ssh_key_file }} -F /home/fabric/work/fabric_config/ssh_config {{ _self_.username }}@{{ _self_.management_ip }}</td>\n",
       "    </tr>\n",
       "    <tr>\n",
       "      <td id=\"T_070e5_row13_col0\" class=\"data row13 col0\" >Log Level</td>\n",
       "      <td id=\"T_070e5_row13_col1\" class=\"data row13 col1\" >INFO</td>\n",
       "    </tr>\n",
       "    <tr>\n",
       "      <td id=\"T_070e5_row14_col0\" class=\"data row14 col0\" >Log File</td>\n",
       "      <td id=\"T_070e5_row14_col1\" class=\"data row14 col1\" >/tmp/fablib/fablib.log</td>\n",
       "    </tr>\n",
       "    <tr>\n",
       "      <td id=\"T_070e5_row15_col0\" class=\"data row15 col0\" >Bastion SSH Config File</td>\n",
       "      <td id=\"T_070e5_row15_col1\" class=\"data row15 col1\" >/home/fabric/work/fabric_config/ssh_config</td>\n",
       "    </tr>\n",
       "    <tr>\n",
       "      <td id=\"T_070e5_row16_col0\" class=\"data row16 col0\" >Version</td>\n",
       "      <td id=\"T_070e5_row16_col1\" class=\"data row16 col1\" >1.8.0</td>\n",
       "    </tr>\n",
       "    <tr>\n",
       "      <td id=\"T_070e5_row17_col0\" class=\"data row17 col0\" >Data directory</td>\n",
       "      <td id=\"T_070e5_row17_col1\" class=\"data row17 col1\" >/tmp/fablib</td>\n",
       "    </tr>\n",
       "    <tr>\n",
       "      <td id=\"T_070e5_row18_col0\" class=\"data row18 col0\" >Project Name</td>\n",
       "      <td id=\"T_070e5_row18_col1\" class=\"data row18 col1\" >FABRIC Clemson EDU</td>\n",
       "    </tr>\n",
       "  </tbody>\n",
       "</table>\n"
      ],
      "text/plain": [
       "<pandas.io.formats.style.Styler at 0x7d5aa1023e10>"
      ]
     },
     "metadata": {},
     "output_type": "display_data"
    }
   ],
   "source": [
    "fablib.show_config();"
   ]
  },
  {
   "cell_type": "markdown",
   "id": "a4becd79-2af9-4804-8603-cc03b38bb5a6",
   "metadata": {},
   "source": [
    "## Validate the configuration;\n",
    "- Checks the validity of the bastion keys and regenerates them if they are expired\n",
    "- Generates Sliver keys if they do not exist already"
   ]
  },
  {
   "cell_type": "code",
   "execution_count": 3,
   "id": "1dfc4175-8fee-4479-be13-21ce243596b1",
   "metadata": {},
   "outputs": [
    {
     "name": "stdout",
     "output_type": "stream",
     "text": [
      "User: cetuck@clemson.edu bastion key is valid!\n",
      "Configuration is valid and please save the config!\n"
     ]
    }
   ],
   "source": [
    "fablib.verify_and_configure()"
   ]
  },
  {
   "cell_type": "markdown",
   "id": "8d8ca51c-e944-468f-b38c-0651eb2f6b13",
   "metadata": {},
   "source": [
    "## Save the configuration for subsequent use"
   ]
  },
  {
   "cell_type": "code",
   "execution_count": 4,
   "id": "a7d8586a-1dfd-4b40-8fc3-d10ffe78cf5a",
   "metadata": {},
   "outputs": [],
   "source": [
    "fablib.save_config()"
   ]
  },
  {
   "cell_type": "markdown",
   "id": "44bf8db5-7174-4d36-bdc4-b5234f556808",
   "metadata": {},
   "source": [
    "## Set up the Experiment\n",
    "In this section you will use the Fablib manager to create a new slice that is composed of 2 nodes for the Ping Assignment.\n",
    "\n",
    "## Reserve Resources\n",
    "In the 'EDUKY' site, we will reserve a set of 2 nodes arranged in a line, with one node designated as a server and the other as a client. Each node will have the following specifications: 1 CPU core, 2GB of RAM, and 10GB of storage capacity. Each node will have 1 network card (NICs) to communicate with each other. All nodes will be preloaded with an 'Ubuntu' Linux OS. Upon submission, the slice will be named 'MyLayer2PingSlice'."
   ]
  },
  {
   "cell_type": "code",
   "execution_count": 5,
   "id": "d0265ff0-5e02-4722-bf14-e81d8738a4dc",
   "metadata": {},
   "outputs": [
    {
     "data": {
      "text/html": [
       "<style type=\"text/css\">\n",
       "#T_0960a tr:nth-child(even) {\n",
       "  background: #dbf3ff;\n",
       "  color: #231f20;\n",
       "}\n",
       "#T_0960a tr:nth-child(odd) {\n",
       "  background: #ffffff;\n",
       "  color: #231f20;\n",
       "}\n",
       "#T_0960a caption {\n",
       "  text-align: center;\n",
       "  font-size: 150%;\n",
       "}\n",
       "#T_0960a_row0_col0, #T_0960a_row0_col1, #T_0960a_row1_col0, #T_0960a_row1_col1, #T_0960a_row2_col0, #T_0960a_row2_col1, #T_0960a_row3_col0, #T_0960a_row3_col1, #T_0960a_row4_col0, #T_0960a_row4_col1, #T_0960a_row5_col0, #T_0960a_row5_col1, #T_0960a_row6_col0, #T_0960a_row6_col1, #T_0960a_row7_col0, #T_0960a_row7_col1, #T_0960a_row8_col0, #T_0960a_row8_col1, #T_0960a_row9_col0, #T_0960a_row9_col1, #T_0960a_row10_col0, #T_0960a_row10_col1, #T_0960a_row11_col0, #T_0960a_row11_col1, #T_0960a_row12_col0, #T_0960a_row12_col1, #T_0960a_row13_col0, #T_0960a_row13_col1, #T_0960a_row14_col0, #T_0960a_row14_col1, #T_0960a_row15_col0, #T_0960a_row15_col1, #T_0960a_row16_col0, #T_0960a_row16_col1, #T_0960a_row17_col0, #T_0960a_row17_col1, #T_0960a_row18_col0, #T_0960a_row18_col1 {\n",
       "  text-align: left;\n",
       "  border: 1px #231f20 solid !important;\n",
       "  overwrite: False;\n",
       "}\n",
       "</style>\n",
       "<table id=\"T_0960a\">\n",
       "  <caption>FABlib Config</caption>\n",
       "  <thead>\n",
       "  </thead>\n",
       "  <tbody>\n",
       "    <tr>\n",
       "      <td id=\"T_0960a_row0_col0\" class=\"data row0 col0\" >Orchestrator</td>\n",
       "      <td id=\"T_0960a_row0_col1\" class=\"data row0 col1\" >orchestrator.fabric-testbed.net</td>\n",
       "    </tr>\n",
       "    <tr>\n",
       "      <td id=\"T_0960a_row1_col0\" class=\"data row1 col0\" >Credential Manager</td>\n",
       "      <td id=\"T_0960a_row1_col1\" class=\"data row1 col1\" >cm.fabric-testbed.net</td>\n",
       "    </tr>\n",
       "    <tr>\n",
       "      <td id=\"T_0960a_row2_col0\" class=\"data row2 col0\" >Core API</td>\n",
       "      <td id=\"T_0960a_row2_col1\" class=\"data row2 col1\" >uis.fabric-testbed.net</td>\n",
       "    </tr>\n",
       "    <tr>\n",
       "      <td id=\"T_0960a_row3_col0\" class=\"data row3 col0\" >Artifact Manager</td>\n",
       "      <td id=\"T_0960a_row3_col1\" class=\"data row3 col1\" >artifacts.fabric-testbed.net</td>\n",
       "    </tr>\n",
       "    <tr>\n",
       "      <td id=\"T_0960a_row4_col0\" class=\"data row4 col0\" >Token File</td>\n",
       "      <td id=\"T_0960a_row4_col1\" class=\"data row4 col1\" >/home/fabric/.tokens.json</td>\n",
       "    </tr>\n",
       "    <tr>\n",
       "      <td id=\"T_0960a_row5_col0\" class=\"data row5 col0\" >Project ID</td>\n",
       "      <td id=\"T_0960a_row5_col1\" class=\"data row5 col1\" >0508639f-d515-44c8-b922-cf4cf000b6d9</td>\n",
       "    </tr>\n",
       "    <tr>\n",
       "      <td id=\"T_0960a_row6_col0\" class=\"data row6 col0\" >Bastion Host</td>\n",
       "      <td id=\"T_0960a_row6_col1\" class=\"data row6 col1\" >bastion.fabric-testbed.net</td>\n",
       "    </tr>\n",
       "    <tr>\n",
       "      <td id=\"T_0960a_row7_col0\" class=\"data row7 col0\" >Bastion Username</td>\n",
       "      <td id=\"T_0960a_row7_col1\" class=\"data row7 col1\" >cetuck_0000291746</td>\n",
       "    </tr>\n",
       "    <tr>\n",
       "      <td id=\"T_0960a_row8_col0\" class=\"data row8 col0\" >Bastion Private Key File</td>\n",
       "      <td id=\"T_0960a_row8_col1\" class=\"data row8 col1\" >/home/fabric/work/fabric_config/fabric_bastion_key</td>\n",
       "    </tr>\n",
       "    <tr>\n",
       "      <td id=\"T_0960a_row9_col0\" class=\"data row9 col0\" >Slice Public Key File</td>\n",
       "      <td id=\"T_0960a_row9_col1\" class=\"data row9 col1\" >/home/fabric/work/fabric_config/slice_key.pub</td>\n",
       "    </tr>\n",
       "    <tr>\n",
       "      <td id=\"T_0960a_row10_col0\" class=\"data row10 col0\" >Slice Private Key File</td>\n",
       "      <td id=\"T_0960a_row10_col1\" class=\"data row10 col1\" >/home/fabric/work/fabric_config/slice_key</td>\n",
       "    </tr>\n",
       "    <tr>\n",
       "      <td id=\"T_0960a_row11_col0\" class=\"data row11 col0\" >Sites to avoid</td>\n",
       "      <td id=\"T_0960a_row11_col1\" class=\"data row11 col1\" ></td>\n",
       "    </tr>\n",
       "    <tr>\n",
       "      <td id=\"T_0960a_row12_col0\" class=\"data row12 col0\" >SSH Command Line</td>\n",
       "      <td id=\"T_0960a_row12_col1\" class=\"data row12 col1\" >ssh -i {{ _self_.private_ssh_key_file }} -F /home/fabric/work/fabric_config/ssh_config {{ _self_.username }}@{{ _self_.management_ip }}</td>\n",
       "    </tr>\n",
       "    <tr>\n",
       "      <td id=\"T_0960a_row13_col0\" class=\"data row13 col0\" >Log Level</td>\n",
       "      <td id=\"T_0960a_row13_col1\" class=\"data row13 col1\" >INFO</td>\n",
       "    </tr>\n",
       "    <tr>\n",
       "      <td id=\"T_0960a_row14_col0\" class=\"data row14 col0\" >Log File</td>\n",
       "      <td id=\"T_0960a_row14_col1\" class=\"data row14 col1\" >/tmp/fablib/fablib.log</td>\n",
       "    </tr>\n",
       "    <tr>\n",
       "      <td id=\"T_0960a_row15_col0\" class=\"data row15 col0\" >Bastion SSH Config File</td>\n",
       "      <td id=\"T_0960a_row15_col1\" class=\"data row15 col1\" >/home/fabric/work/fabric_config/ssh_config</td>\n",
       "    </tr>\n",
       "    <tr>\n",
       "      <td id=\"T_0960a_row16_col0\" class=\"data row16 col0\" >Version</td>\n",
       "      <td id=\"T_0960a_row16_col1\" class=\"data row16 col1\" >1.8.0</td>\n",
       "    </tr>\n",
       "    <tr>\n",
       "      <td id=\"T_0960a_row17_col0\" class=\"data row17 col0\" >Data directory</td>\n",
       "      <td id=\"T_0960a_row17_col1\" class=\"data row17 col1\" >/tmp/fablib</td>\n",
       "    </tr>\n",
       "    <tr>\n",
       "      <td id=\"T_0960a_row18_col0\" class=\"data row18 col0\" >Project Name</td>\n",
       "      <td id=\"T_0960a_row18_col1\" class=\"data row18 col1\" >FABRIC Clemson EDU</td>\n",
       "    </tr>\n",
       "  </tbody>\n",
       "</table>\n"
      ],
      "text/plain": [
       "<pandas.io.formats.style.Styler at 0x7d5a9f0d7b90>"
      ]
     },
     "metadata": {},
     "output_type": "display_data"
    }
   ],
   "source": [
    "# Import Fablib\n",
    "from fabrictestbed_extensions.fablib.fablib import FablibManager as fablib_manager\n",
    "fablib = fablib_manager()                     \n",
    "fablib.show_config()\n",
    "import json\n",
    "import traceback"
   ]
  },
  {
   "cell_type": "code",
   "execution_count": 6,
   "id": "8032c0a2-36db-4a56-96a6-242629c3e571",
   "metadata": {},
   "outputs": [
    {
     "name": "stdout",
     "output_type": "stream",
     "text": [
      "EDUKY\n",
      "Slice Failed: Submit request error: return_status Status.FAILURE, slice_reservations: (500)\n",
      "Reason: INTERNAL SERVER ERROR\n",
      "HTTP response headers: HTTPHeaderDict({'Server': 'nginx/1.21.6', 'Date': 'Mon, 31 Mar 2025 04:18:02 GMT', 'Content-Type': 'text/html; charset=utf-8', 'Content-Length': '212', 'Connection': 'keep-alive', 'Access-Control-Allow-Credentials': 'true', 'Access-Control-Allow-Headers': 'DNT, User-Agent, X-Requested-With, If-Modified-Since, Cache-Control, Content-Type, Range, Authorization', 'Access-Control-Allow-Methods': 'GET, POST, PUT, PATCH, DELETE, OPTIONS', 'Access-Control-Allow-Origin': '*', 'Access-Control-Expose-Headers': 'Content-Length, Content-Range, X-Error', 'X-Error': 'Slice MyLayer2PingSlice already exists'})\n",
      "HTTP response body: b'{\\n    \"errors\": [\\n        {\\n            \"details\": \"Slice MyLayer2PingSlice already exists\",\\n            \"message\": \"Internal Server Error\"\\n        }\\n    ],\\n    \"size\": 1,\\n    \"status\": 500,\\n    \"type\": \"error\"\\n}'\n",
      "\n"
     ]
    }
   ],
   "source": [
    "# Define and Submit Slice\n",
    "slice_name = \"MyLayer2PingSlice\"\n",
    "site = \"EDUKY\"\n",
    "print(site)\n",
    "\n",
    "nicmodel = \"NIC_Basic\"\n",
    "image = \"default_ubuntu_20\"\n",
    "\n",
    "cores = 1\n",
    "ram = 2\n",
    "disk = 10\n",
    "\n",
    "try:\n",
    "    #Create Slice\n",
    "    slice = fablib.new_slice(slice_name)\n",
    "\n",
    "    # Add node\n",
    "    client = slice.add_node(name=\"client\", site=site)\n",
    "    client.set_capacities(cores=cores, ram=ram, disk=disk)\n",
    "    client.set_image(image)\n",
    "    iface1 = client.add_component(model='NIC_Basic', name=\"client-nic1\").get_interfaces()[0]\n",
    "    \n",
    "    # Add node\n",
    "    server = slice.add_node(name=\"server\", site=site)\n",
    "    server.set_capacities(cores=cores, ram=ram, disk=disk)\n",
    "    server.set_image(image)\n",
    "    iface2 = server.add_component(model='NIC_Basic', name=\"server-nic1\").get_interfaces()[0] \n",
    "    \n",
    "    # Network\n",
    "    net1 = slice.add_l2network(name=\"bridge1\", interfaces=[iface1, iface2])\n",
    "\n",
    "    #Submit Slice Request\n",
    "    slice.submit()\n",
    "    \n",
    "except Exception as e:\n",
    "    print(f\"Slice Failed: {e}\")"
   ]
  },
  {
   "cell_type": "markdown",
   "id": "20fd338f-e75f-4508-b05b-36bf93c6984c",
   "metadata": {},
   "source": [
    "## Set up the Experiment Network\n",
    "The network configuration part of this slice will connect the nodes with specific IPs such that the nodes are able to communicate with each other. The slice will use the network name to find the corresponding devices (NIC cards) used in the slice creation stage so that we can provide the correct connection in the network, in this case, \"bridge1\".\n",
    "\n",
    "This slice contains a single subnetwork in IPv4: 10.20.30.0/24 (between server and the client, \"bridge1\"). This cell uses the alternative \"cidr\" to set the subnet based on the specified number of bits. This slice will provide IP 10.20.30.40 to the client node and 10.20.30.41 to the server node following the guidelines set by the network subnet.\n",
    "\n",
    "After providing the IPs to the corresponding devices, the cell will verify that all interfaces are up and execute \"ip a\" to output the connections that are active. Then, we will add the additional route from the client to the server in case the route is not added correctly."
   ]
  },
  {
   "cell_type": "code",
   "execution_count": 7,
   "id": "d844f332-f1e2-467b-9ba3-41ab2c083116",
   "metadata": {},
   "outputs": [
    {
     "name": "stdout",
     "output_type": "stream",
     "text": [
      "Error: node.execute: Management IP Invalid: None\n"
     ]
    }
   ],
   "source": [
    "# Setup Network\n",
    "try:\n",
    "    client_name = \"client\"\n",
    "    server_name = \"server\"\n",
    "    network_service_name = \"bridge1\"\n",
    "\n",
    "    client_ip = '10.20.30.40'\n",
    "    server_ip = '10.20.30.41'\n",
    "    \n",
    "    client = slice.get_node(name=client_name)        \n",
    "    iface1 = client.get_interface(network_name=network_service_name)  \n",
    "    iface1.set_ip(ip=client_ip, cidr=\"24\")\n",
    "    \n",
    "    iface1.get_device_name()\n",
    "    \n",
    "    client.execute(\"echo 100.20.30.40 client | sudo tee -a /etc/hosts\")\n",
    "    client.execute(f\"sudo ip link set dev { iface1.get_device_name()} up\")\n",
    "    \n",
    "    stdout, stderr = client.execute(f'ip addr show {iface1.get_os_interface()}')\n",
    "    server = slice.get_node(name=server_name)        \n",
    "    iface2 = server.get_interface(network_name=network_service_name)  \n",
    "    iface2.set_ip(ip=server_ip, cidr=\"24\")\n",
    "    \n",
    "    stdout, stderr = server.execute(f'ip addr show {iface2.get_os_interface()}')\n",
    "    server.execute(f\"sudo ip link set dev { iface2.get_device_name()} up\")\n",
    " \n",
    "    print(\"Printing Server's Network\")\n",
    "    out, err = server.execute(\"ip a \")\n",
    "    \n",
    "    print(\"Getting control interface ip\")\n",
    "    out, err = server.execute(\"ip a | grep inet | grep enp | awk '{print $2}'\")\n",
    "    ip = ((out.split('\\n')[0]).split('/'))[0]\n",
    "    print(f\"Ip found: {ip}\")\n",
    "    \n",
    "    print(\"Getting Client's interface name\")\n",
    "    print(f'Device Found: {iface1.get_device_name()}')\n",
    "    \n",
    "    # add route if needed\n",
    "    client.execute(f\"sudo ip route add {ip} dev {iface1.get_device_name()}\")\n",
    "\n",
    "except Exception as e:\n",
    "    print(f\"Error: {e}\")"
   ]
  },
  {
   "cell_type": "markdown",
   "id": "857aad3e-a5fa-42ef-8202-6d6615981899",
   "metadata": {},
   "source": [
    "## Configure the software needed for the nodes in the experiment¶\n",
    "In this section of the slice creation, we will add any additional software, tools or scripts that we need for our experiments. For this slice we don't need any special software nor additional configuration."
   ]
  },
  {
   "cell_type": "code",
   "execution_count": 8,
   "id": "12dcc227-b71f-4f86-8acb-7655931dae22",
   "metadata": {},
   "outputs": [
    {
     "name": "stdout",
     "output_type": "stream",
     "text": [
      "No additional software Needed\n"
     ]
    }
   ],
   "source": [
    "# Install Software\n",
    "from ipaddress import ip_address, IPv4Address, IPv6Address, IPv4Network, IPv6Network\n",
    "\n",
    "try:    \n",
    "    print(\"No additional software Needed\")\n",
    "except Exception as e:\n",
    "    print(f\"Exception: {e}\")"
   ]
  },
  {
   "cell_type": "markdown",
   "id": "0abec06a-d385-4dbb-9956-6d3c0cd05063",
   "metadata": {},
   "source": [
    "## Retrieve Slice\n",
    "\n",
    "### Import the Fabric API"
   ]
  },
  {
   "cell_type": "code",
   "execution_count": 9,
   "id": "f120dbf6-c5bd-4e81-8a46-470034fa8fec",
   "metadata": {},
   "outputs": [
    {
     "data": {
      "text/html": [
       "<style type=\"text/css\">\n",
       "#T_8700b tr:nth-child(even) {\n",
       "  background: #dbf3ff;\n",
       "  color: #231f20;\n",
       "}\n",
       "#T_8700b tr:nth-child(odd) {\n",
       "  background: #ffffff;\n",
       "  color: #231f20;\n",
       "}\n",
       "#T_8700b caption {\n",
       "  text-align: center;\n",
       "  font-size: 150%;\n",
       "}\n",
       "#T_8700b_row0_col0, #T_8700b_row0_col1, #T_8700b_row1_col0, #T_8700b_row1_col1, #T_8700b_row2_col0, #T_8700b_row2_col1, #T_8700b_row3_col0, #T_8700b_row3_col1, #T_8700b_row4_col0, #T_8700b_row4_col1, #T_8700b_row5_col0, #T_8700b_row5_col1, #T_8700b_row6_col0, #T_8700b_row6_col1, #T_8700b_row7_col0, #T_8700b_row7_col1, #T_8700b_row8_col0, #T_8700b_row8_col1, #T_8700b_row9_col0, #T_8700b_row9_col1, #T_8700b_row10_col0, #T_8700b_row10_col1, #T_8700b_row11_col0, #T_8700b_row11_col1, #T_8700b_row12_col0, #T_8700b_row12_col1, #T_8700b_row13_col0, #T_8700b_row13_col1, #T_8700b_row14_col0, #T_8700b_row14_col1, #T_8700b_row15_col0, #T_8700b_row15_col1, #T_8700b_row16_col0, #T_8700b_row16_col1, #T_8700b_row17_col0, #T_8700b_row17_col1, #T_8700b_row18_col0, #T_8700b_row18_col1 {\n",
       "  text-align: left;\n",
       "  border: 1px #231f20 solid !important;\n",
       "  overwrite: False;\n",
       "}\n",
       "</style>\n",
       "<table id=\"T_8700b\">\n",
       "  <caption>FABlib Config</caption>\n",
       "  <thead>\n",
       "  </thead>\n",
       "  <tbody>\n",
       "    <tr>\n",
       "      <td id=\"T_8700b_row0_col0\" class=\"data row0 col0\" >Orchestrator</td>\n",
       "      <td id=\"T_8700b_row0_col1\" class=\"data row0 col1\" >orchestrator.fabric-testbed.net</td>\n",
       "    </tr>\n",
       "    <tr>\n",
       "      <td id=\"T_8700b_row1_col0\" class=\"data row1 col0\" >Credential Manager</td>\n",
       "      <td id=\"T_8700b_row1_col1\" class=\"data row1 col1\" >cm.fabric-testbed.net</td>\n",
       "    </tr>\n",
       "    <tr>\n",
       "      <td id=\"T_8700b_row2_col0\" class=\"data row2 col0\" >Core API</td>\n",
       "      <td id=\"T_8700b_row2_col1\" class=\"data row2 col1\" >uis.fabric-testbed.net</td>\n",
       "    </tr>\n",
       "    <tr>\n",
       "      <td id=\"T_8700b_row3_col0\" class=\"data row3 col0\" >Artifact Manager</td>\n",
       "      <td id=\"T_8700b_row3_col1\" class=\"data row3 col1\" >artifacts.fabric-testbed.net</td>\n",
       "    </tr>\n",
       "    <tr>\n",
       "      <td id=\"T_8700b_row4_col0\" class=\"data row4 col0\" >Token File</td>\n",
       "      <td id=\"T_8700b_row4_col1\" class=\"data row4 col1\" >/home/fabric/.tokens.json</td>\n",
       "    </tr>\n",
       "    <tr>\n",
       "      <td id=\"T_8700b_row5_col0\" class=\"data row5 col0\" >Project ID</td>\n",
       "      <td id=\"T_8700b_row5_col1\" class=\"data row5 col1\" >0508639f-d515-44c8-b922-cf4cf000b6d9</td>\n",
       "    </tr>\n",
       "    <tr>\n",
       "      <td id=\"T_8700b_row6_col0\" class=\"data row6 col0\" >Bastion Host</td>\n",
       "      <td id=\"T_8700b_row6_col1\" class=\"data row6 col1\" >bastion.fabric-testbed.net</td>\n",
       "    </tr>\n",
       "    <tr>\n",
       "      <td id=\"T_8700b_row7_col0\" class=\"data row7 col0\" >Bastion Username</td>\n",
       "      <td id=\"T_8700b_row7_col1\" class=\"data row7 col1\" >cetuck_0000291746</td>\n",
       "    </tr>\n",
       "    <tr>\n",
       "      <td id=\"T_8700b_row8_col0\" class=\"data row8 col0\" >Bastion Private Key File</td>\n",
       "      <td id=\"T_8700b_row8_col1\" class=\"data row8 col1\" >/home/fabric/work/fabric_config/fabric_bastion_key</td>\n",
       "    </tr>\n",
       "    <tr>\n",
       "      <td id=\"T_8700b_row9_col0\" class=\"data row9 col0\" >Slice Public Key File</td>\n",
       "      <td id=\"T_8700b_row9_col1\" class=\"data row9 col1\" >/home/fabric/work/fabric_config/slice_key.pub</td>\n",
       "    </tr>\n",
       "    <tr>\n",
       "      <td id=\"T_8700b_row10_col0\" class=\"data row10 col0\" >Slice Private Key File</td>\n",
       "      <td id=\"T_8700b_row10_col1\" class=\"data row10 col1\" >/home/fabric/work/fabric_config/slice_key</td>\n",
       "    </tr>\n",
       "    <tr>\n",
       "      <td id=\"T_8700b_row11_col0\" class=\"data row11 col0\" >Sites to avoid</td>\n",
       "      <td id=\"T_8700b_row11_col1\" class=\"data row11 col1\" ></td>\n",
       "    </tr>\n",
       "    <tr>\n",
       "      <td id=\"T_8700b_row12_col0\" class=\"data row12 col0\" >SSH Command Line</td>\n",
       "      <td id=\"T_8700b_row12_col1\" class=\"data row12 col1\" >ssh -i {{ _self_.private_ssh_key_file }} -F /home/fabric/work/fabric_config/ssh_config {{ _self_.username }}@{{ _self_.management_ip }}</td>\n",
       "    </tr>\n",
       "    <tr>\n",
       "      <td id=\"T_8700b_row13_col0\" class=\"data row13 col0\" >Log Level</td>\n",
       "      <td id=\"T_8700b_row13_col1\" class=\"data row13 col1\" >INFO</td>\n",
       "    </tr>\n",
       "    <tr>\n",
       "      <td id=\"T_8700b_row14_col0\" class=\"data row14 col0\" >Log File</td>\n",
       "      <td id=\"T_8700b_row14_col1\" class=\"data row14 col1\" >/tmp/fablib/fablib.log</td>\n",
       "    </tr>\n",
       "    <tr>\n",
       "      <td id=\"T_8700b_row15_col0\" class=\"data row15 col0\" >Bastion SSH Config File</td>\n",
       "      <td id=\"T_8700b_row15_col1\" class=\"data row15 col1\" >/home/fabric/work/fabric_config/ssh_config</td>\n",
       "    </tr>\n",
       "    <tr>\n",
       "      <td id=\"T_8700b_row16_col0\" class=\"data row16 col0\" >Version</td>\n",
       "      <td id=\"T_8700b_row16_col1\" class=\"data row16 col1\" >1.8.0</td>\n",
       "    </tr>\n",
       "    <tr>\n",
       "      <td id=\"T_8700b_row17_col0\" class=\"data row17 col0\" >Data directory</td>\n",
       "      <td id=\"T_8700b_row17_col1\" class=\"data row17 col1\" >/tmp/fablib</td>\n",
       "    </tr>\n",
       "    <tr>\n",
       "      <td id=\"T_8700b_row18_col0\" class=\"data row18 col0\" >Project Name</td>\n",
       "      <td id=\"T_8700b_row18_col1\" class=\"data row18 col1\" >FABRIC Clemson EDU</td>\n",
       "    </tr>\n",
       "  </tbody>\n",
       "</table>\n"
      ],
      "text/plain": [
       "<pandas.io.formats.style.Styler at 0x7d5a9ca23a50>"
      ]
     },
     "metadata": {},
     "output_type": "display_data"
    },
    {
     "data": {
      "text/html": [
       "<style type=\"text/css\">\n",
       "#T_0ea1f caption {\n",
       "  text-align: center;\n",
       "  font-size: 150%;\n",
       "  caption-side: top;\n",
       "}\n",
       "#T_0ea1f th {\n",
       "  text-align: left;\n",
       "}\n",
       "#T_0ea1f tr:nth-child(even) {\n",
       "  background: #ffffff;\n",
       "  color: #231f20;\n",
       "}\n",
       "#T_0ea1f tr:nth-child(odd) {\n",
       "  background: #dbf3ff;\n",
       "  color: #231f20;\n",
       "}\n",
       "#T_0ea1f .level0 {\n",
       "  border: 1px black solid !important;\n",
       "  background: #ffffff;\n",
       "  color: #231f20;\n",
       "}\n",
       "#T_0ea1f_row0_col0, #T_0ea1f_row0_col1, #T_0ea1f_row0_col2, #T_0ea1f_row0_col3, #T_0ea1f_row0_col4, #T_0ea1f_row0_col5, #T_0ea1f_row0_col6, #T_0ea1f_row0_col7, #T_0ea1f_row0_col8, #T_0ea1f_row0_col9, #T_0ea1f_row0_col10, #T_0ea1f_row0_col11, #T_0ea1f_row0_col12, #T_0ea1f_row0_col13, #T_0ea1f_row0_col14, #T_0ea1f_row0_col15, #T_0ea1f_row1_col0, #T_0ea1f_row1_col1, #T_0ea1f_row1_col2, #T_0ea1f_row1_col3, #T_0ea1f_row1_col4, #T_0ea1f_row1_col5, #T_0ea1f_row1_col6, #T_0ea1f_row1_col7, #T_0ea1f_row1_col8, #T_0ea1f_row1_col9, #T_0ea1f_row1_col10, #T_0ea1f_row1_col11, #T_0ea1f_row1_col12, #T_0ea1f_row1_col13, #T_0ea1f_row1_col14, #T_0ea1f_row1_col15 {\n",
       "  text-align: left;\n",
       "  border: 1px #231f20 solid !important;\n",
       "  overwrite: False;\n",
       "}\n",
       "</style>\n",
       "<table id=\"T_0ea1f\">\n",
       "  <caption>Nodes</caption>\n",
       "  <thead>\n",
       "    <tr>\n",
       "      <th id=\"T_0ea1f_level0_col0\" class=\"col_heading level0 col0\" >ID</th>\n",
       "      <th id=\"T_0ea1f_level0_col1\" class=\"col_heading level0 col1\" >Name</th>\n",
       "      <th id=\"T_0ea1f_level0_col2\" class=\"col_heading level0 col2\" >Cores</th>\n",
       "      <th id=\"T_0ea1f_level0_col3\" class=\"col_heading level0 col3\" >RAM</th>\n",
       "      <th id=\"T_0ea1f_level0_col4\" class=\"col_heading level0 col4\" >Disk</th>\n",
       "      <th id=\"T_0ea1f_level0_col5\" class=\"col_heading level0 col5\" >Image</th>\n",
       "      <th id=\"T_0ea1f_level0_col6\" class=\"col_heading level0 col6\" >Image Type</th>\n",
       "      <th id=\"T_0ea1f_level0_col7\" class=\"col_heading level0 col7\" >Host</th>\n",
       "      <th id=\"T_0ea1f_level0_col8\" class=\"col_heading level0 col8\" >Site</th>\n",
       "      <th id=\"T_0ea1f_level0_col9\" class=\"col_heading level0 col9\" >Username</th>\n",
       "      <th id=\"T_0ea1f_level0_col10\" class=\"col_heading level0 col10\" >Management IP</th>\n",
       "      <th id=\"T_0ea1f_level0_col11\" class=\"col_heading level0 col11\" >State</th>\n",
       "      <th id=\"T_0ea1f_level0_col12\" class=\"col_heading level0 col12\" >Error</th>\n",
       "      <th id=\"T_0ea1f_level0_col13\" class=\"col_heading level0 col13\" >SSH Command</th>\n",
       "      <th id=\"T_0ea1f_level0_col14\" class=\"col_heading level0 col14\" >Public SSH Key File</th>\n",
       "      <th id=\"T_0ea1f_level0_col15\" class=\"col_heading level0 col15\" >Private SSH Key File</th>\n",
       "    </tr>\n",
       "  </thead>\n",
       "  <tbody>\n",
       "    <tr>\n",
       "      <td id=\"T_0ea1f_row0_col0\" class=\"data row0 col0\" >cb51329b-96c7-4234-b4f0-e21026d94f27</td>\n",
       "      <td id=\"T_0ea1f_row0_col1\" class=\"data row0 col1\" >client</td>\n",
       "      <td id=\"T_0ea1f_row0_col2\" class=\"data row0 col2\" >1</td>\n",
       "      <td id=\"T_0ea1f_row0_col3\" class=\"data row0 col3\" >2</td>\n",
       "      <td id=\"T_0ea1f_row0_col4\" class=\"data row0 col4\" >10</td>\n",
       "      <td id=\"T_0ea1f_row0_col5\" class=\"data row0 col5\" >default_ubuntu_20</td>\n",
       "      <td id=\"T_0ea1f_row0_col6\" class=\"data row0 col6\" >qcow2</td>\n",
       "      <td id=\"T_0ea1f_row0_col7\" class=\"data row0 col7\" >eduky-w5.fabric-testbed.net</td>\n",
       "      <td id=\"T_0ea1f_row0_col8\" class=\"data row0 col8\" >EDUKY</td>\n",
       "      <td id=\"T_0ea1f_row0_col9\" class=\"data row0 col9\" >ubuntu</td>\n",
       "      <td id=\"T_0ea1f_row0_col10\" class=\"data row0 col10\" >2610:1e0:1700:206:f816:3eff:fe59:2393</td>\n",
       "      <td id=\"T_0ea1f_row0_col11\" class=\"data row0 col11\" >Active</td>\n",
       "      <td id=\"T_0ea1f_row0_col12\" class=\"data row0 col12\" ></td>\n",
       "      <td id=\"T_0ea1f_row0_col13\" class=\"data row0 col13\" >ssh -i /home/fabric/work/fabric_config/slice_key -F /home/fabric/work/fabric_config/ssh_config ubuntu@2610:1e0:1700:206:f816:3eff:fe59:2393</td>\n",
       "      <td id=\"T_0ea1f_row0_col14\" class=\"data row0 col14\" >/home/fabric/work/fabric_config/slice_key.pub</td>\n",
       "      <td id=\"T_0ea1f_row0_col15\" class=\"data row0 col15\" >/home/fabric/work/fabric_config/slice_key</td>\n",
       "    </tr>\n",
       "    <tr>\n",
       "      <td id=\"T_0ea1f_row1_col0\" class=\"data row1 col0\" >e5c3993f-92bb-4959-9300-3c3eb1572183</td>\n",
       "      <td id=\"T_0ea1f_row1_col1\" class=\"data row1 col1\" >server</td>\n",
       "      <td id=\"T_0ea1f_row1_col2\" class=\"data row1 col2\" >1</td>\n",
       "      <td id=\"T_0ea1f_row1_col3\" class=\"data row1 col3\" >2</td>\n",
       "      <td id=\"T_0ea1f_row1_col4\" class=\"data row1 col4\" >10</td>\n",
       "      <td id=\"T_0ea1f_row1_col5\" class=\"data row1 col5\" >default_ubuntu_20</td>\n",
       "      <td id=\"T_0ea1f_row1_col6\" class=\"data row1 col6\" >qcow2</td>\n",
       "      <td id=\"T_0ea1f_row1_col7\" class=\"data row1 col7\" >eduky-w5.fabric-testbed.net</td>\n",
       "      <td id=\"T_0ea1f_row1_col8\" class=\"data row1 col8\" >EDUKY</td>\n",
       "      <td id=\"T_0ea1f_row1_col9\" class=\"data row1 col9\" >ubuntu</td>\n",
       "      <td id=\"T_0ea1f_row1_col10\" class=\"data row1 col10\" >2610:1e0:1700:206:f816:3eff:fe36:beb5</td>\n",
       "      <td id=\"T_0ea1f_row1_col11\" class=\"data row1 col11\" >Active</td>\n",
       "      <td id=\"T_0ea1f_row1_col12\" class=\"data row1 col12\" ></td>\n",
       "      <td id=\"T_0ea1f_row1_col13\" class=\"data row1 col13\" >ssh -i /home/fabric/work/fabric_config/slice_key -F /home/fabric/work/fabric_config/ssh_config ubuntu@2610:1e0:1700:206:f816:3eff:fe36:beb5</td>\n",
       "      <td id=\"T_0ea1f_row1_col14\" class=\"data row1 col14\" >/home/fabric/work/fabric_config/slice_key.pub</td>\n",
       "      <td id=\"T_0ea1f_row1_col15\" class=\"data row1 col15\" >/home/fabric/work/fabric_config/slice_key</td>\n",
       "    </tr>\n",
       "  </tbody>\n",
       "</table>\n"
      ],
      "text/plain": [
       "<pandas.io.formats.style.Styler at 0x7d5a9eeb3010>"
      ]
     },
     "metadata": {},
     "output_type": "display_data"
    },
    {
     "name": "stdout",
     "output_type": "stream",
     "text": [
      "Slice: MyLayer2PingSlice, StableOK\n"
     ]
    }
   ],
   "source": [
    "# Load Fablib and Node Information\n",
    "from fabrictestbed_extensions.fablib.fablib import FablibManager as fablib_manager\n",
    "fablib = fablib_manager()                    \n",
    "fablib.show_config()\n",
    "import json\n",
    "import traceback\n",
    "\n",
    "try:\n",
    "    slice_name = 'MyLayer2PingSlice'\n",
    "    \n",
    "    slice = fablib.get_slice(slice_name)\n",
    "    slice.list_nodes()\n",
    "    print(f\"Slice: {slice.get_name()}, {slice.get_state()}\")\n",
    "except Exception as e:\n",
    "    print(f\"Get Slices Fail: {e}\")"
   ]
  },
  {
   "cell_type": "markdown",
   "id": "30be18d8-fac1-412a-b8c1-45c473952bf8",
   "metadata": {},
   "source": [
    "### View Topology"
   ]
  },
  {
   "cell_type": "markdown",
   "id": "342d2cbb-8293-4e91-a700-ff83e503d180",
   "metadata": {},
   "source": [
    "#### Get the topology\n",
    "To configure the Nodes we need to get the topology of the experiment by getting the slice component. In this tutorial we get the slice by the name given when the slice was created.\n",
    "The folowing cell prints the topology."
   ]
  },
  {
   "cell_type": "code",
   "execution_count": 10,
   "id": "007076ba-cfbe-43d9-bb6f-9be2ecf74fd7",
   "metadata": {},
   "outputs": [
    {
     "name": "stdout",
     "output_type": "stream",
     "text": [
      "Node:\n",
      "   Name              : client\n",
      "   Host              : eduky-w5.fabric-testbed.net\n",
      "   Site              : EDUKY\n",
      "   Management IP     : 2610:1e0:1700:206:f816:3eff:fe59:2393\n",
      "   Reservation ID    : cb51329b-96c7-4234-b4f0-e21026d94f27\n",
      "   Reservation State : Active\n",
      "   Interfaces        : [<fabrictestbed_extensions.fablib.interface.Interface object at 0x7d5a9c0a1610>]\n",
      "   SSH Command       : ssh -i /home/fabric/work/fabric_config/slice_key -F /home/fabric/work/fabric_config/ssh_config ubuntu@2610:1e0:1700:206:f816:3eff:fe59:2393\n",
      "\n",
      "Node:\n",
      "   Name              : server\n",
      "   Host              : eduky-w5.fabric-testbed.net\n",
      "   Site              : EDUKY\n",
      "   Management IP     : 2610:1e0:1700:206:f816:3eff:fe36:beb5\n",
      "   Reservation ID    : e5c3993f-92bb-4959-9300-3c3eb1572183\n",
      "   Reservation State : Active\n",
      "   Interfaces        : [<fabrictestbed_extensions.fablib.interface.Interface object at 0x7d5a9ca2c250>]\n",
      "   SSH Command       : ssh -i /home/fabric/work/fabric_config/slice_key -F /home/fabric/work/fabric_config/ssh_config ubuntu@2610:1e0:1700:206:f816:3eff:fe36:beb5\n",
      "\n"
     ]
    }
   ],
   "source": [
    "# Preview Slice node's attributes\n",
    "try:\n",
    "    slice = fablib.get_slice(slice_name)\n",
    "    for node in slice.get_nodes():\n",
    "        print(\"Node:\")\n",
    "        print(f\"   Name              : {node.get_name()}\")\n",
    "        print(f\"   Host              : {node.get_host()}\")\n",
    "        print(f\"   Site              : {node.get_site()}\")\n",
    "        print(f\"   Management IP     : {node.get_management_ip()}\")\n",
    "        print(f\"   Reservation ID    : {node.get_reservation_id()}\")\n",
    "        print(f\"   Reservation State : {node.get_reservation_state()}\")\n",
    "        print(f\"   Interfaces        : {node.get_interfaces()}\")\n",
    "        print(f\"   SSH Command       : {node.get_ssh_command()}\")\n",
    "        print()                \n",
    "except Exception as e:\n",
    "    print(f\"Fail: {e}\")"
   ]
  },
  {
   "cell_type": "markdown",
   "id": "170eb85b-9279-49a4-9778-1478990cf38b",
   "metadata": {},
   "source": [
    "## Cleanup Resources"
   ]
  },
  {
   "cell_type": "code",
   "execution_count": 11,
   "id": "92b57ebc-c1f4-45be-bbdb-effd9ce23ea9",
   "metadata": {},
   "outputs": [
    {
     "name": "stdout",
     "output_type": "stream",
     "text": [
      "Change the Boolean to delete slice\n"
     ]
    }
   ],
   "source": [
    "# Delete Slice\n",
    "try:\n",
    "    #To delete the slice change \"CHECK\" to \"True\", this is to prevent accidental slice deletion\n",
    "    CHECK = False\n",
    "    if (CHECK):\n",
    "        slice = fablib.get_slice(slice_name)\n",
    "        slice.delete()\n",
    "    else:\n",
    "        print(\"Change the Boolean to delete slice\")\n",
    "except Exception as e:\n",
    "    print(f\"Fail: {e}\")"
   ]
  }
 ],
 "metadata": {
  "kernelspec": {
   "display_name": "Python 3 (ipykernel)",
   "language": "python",
   "name": "python3"
  },
  "language_info": {
   "codemirror_mode": {
    "name": "ipython",
    "version": 3
   },
   "file_extension": ".py",
   "mimetype": "text/x-python",
   "name": "python",
   "nbconvert_exporter": "python",
   "pygments_lexer": "ipython3",
   "version": "3.11.9"
  }
 },
 "nbformat": 4,
 "nbformat_minor": 5
}
